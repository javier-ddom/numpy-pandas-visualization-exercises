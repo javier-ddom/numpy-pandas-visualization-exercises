{
 "cells": [
  {
   "cell_type": "code",
   "execution_count": 2,
   "id": "ece08818",
   "metadata": {},
   "outputs": [],
   "source": [
    "import numpy as np\n",
    "import scipy"
   ]
  },
  {
   "cell_type": "code",
   "execution_count": null,
   "id": "c30e8bad",
   "metadata": {},
   "outputs": [],
   "source": []
  },
  {
   "cell_type": "code",
   "execution_count": 3,
   "id": "848680d5",
   "metadata": {},
   "outputs": [],
   "source": [
    "a = np.array([4, 10, 12, 23, -2, -1, 0, 0, 0, -6, 3, -7])\n"
   ]
  },
  {
   "cell_type": "code",
   "execution_count": null,
   "id": "38d3aac8",
   "metadata": {},
   "outputs": [],
   "source": []
  },
  {
   "cell_type": "code",
   "execution_count": 14,
   "id": "4f29235c",
   "metadata": {},
   "outputs": [
    {
     "data": {
      "text/plain": [
       "array([ 1,  1,  1,  1, -1, -1,  0,  0,  0, -1,  1, -1])"
      ]
     },
     "execution_count": 14,
     "metadata": {},
     "output_type": "execute_result"
    }
   ],
   "source": [
    "np.sign(a)"
   ]
  },
  {
   "cell_type": "code",
   "execution_count": 15,
   "id": "c2d190e4",
   "metadata": {},
   "outputs": [],
   "source": [
    "tbr = sum((a) < 0) #there are 4 negative numbers in the list"
   ]
  },
  {
   "cell_type": "code",
   "execution_count": 16,
   "id": "d19f36b4",
   "metadata": {},
   "outputs": [
    {
     "data": {
      "text/plain": [
       "4"
      ]
     },
     "execution_count": 16,
     "metadata": {},
     "output_type": "execute_result"
    }
   ],
   "source": [
    "tbr"
   ]
  },
  {
   "cell_type": "code",
   "execution_count": 20,
   "id": "d8cc7180",
   "metadata": {},
   "outputs": [],
   "source": [
    "#2 how many positive numbers are there -> 5"
   ]
  },
  {
   "cell_type": "code",
   "execution_count": 21,
   "id": "24618c44",
   "metadata": {},
   "outputs": [],
   "source": [
    "tbrpos = sum((a > 0))"
   ]
  },
  {
   "cell_type": "code",
   "execution_count": 22,
   "id": "76dae8f4",
   "metadata": {},
   "outputs": [
    {
     "data": {
      "text/plain": [
       "5"
      ]
     },
     "execution_count": 22,
     "metadata": {},
     "output_type": "execute_result"
    }
   ],
   "source": [
    "tbrpos"
   ]
  },
  {
   "cell_type": "code",
   "execution_count": 26,
   "id": "4954a52f",
   "metadata": {},
   "outputs": [],
   "source": [
    "#3 how any EVEN, POSITIVE numbers are there -> 3 PosEven\n",
    "tbrpe = sum((a > 0) & (a % 2 == 0))"
   ]
  },
  {
   "cell_type": "code",
   "execution_count": 27,
   "id": "10752136",
   "metadata": {},
   "outputs": [
    {
     "data": {
      "text/plain": [
       "3"
      ]
     },
     "execution_count": 27,
     "metadata": {},
     "output_type": "execute_result"
    }
   ],
   "source": [
    "tbrpe"
   ]
  },
  {
   "cell_type": "code",
   "execution_count": 35,
   "id": "37e5657b",
   "metadata": {},
   "outputs": [],
   "source": [
    "#4 if you added 3 to each value, how any are POSITIVE -> 10 after +3\n",
    "add_three = a + 3\n",
    "a3_array = sum(add_three > 0)"
   ]
  },
  {
   "cell_type": "code",
   "execution_count": 37,
   "id": "261fa1da",
   "metadata": {},
   "outputs": [
    {
     "data": {
      "text/plain": [
       "10"
      ]
     },
     "execution_count": 37,
     "metadata": {},
     "output_type": "execute_result"
    }
   ],
   "source": [
    "a3_array"
   ]
  },
  {
   "cell_type": "code",
   "execution_count": 38,
   "id": "cb7cf322",
   "metadata": {},
   "outputs": [],
   "source": [
    "#5 if sq each number, what are new mean and stdv"
   ]
  },
  {
   "cell_type": "code",
   "execution_count": 92,
   "id": "63508fe2",
   "metadata": {},
   "outputs": [
    {
     "ename": "TypeError",
     "evalue": "unsupported operand type(s) for ** or pow(): 'list' and 'int'",
     "output_type": "error",
     "traceback": [
      "\u001b[0;31m---------------------------------------------------------------------------\u001b[0m",
      "\u001b[0;31mTypeError\u001b[0m                                 Traceback (most recent call last)",
      "Input \u001b[0;32mIn [92]\u001b[0m, in \u001b[0;36m<cell line: 1>\u001b[0;34m()\u001b[0m\n\u001b[0;32m----> 1\u001b[0m sq_array \u001b[38;5;241m=\u001b[39m \u001b[43ma\u001b[49m\u001b[38;5;241;43m*\u001b[39;49m\u001b[38;5;241;43m*\u001b[39;49m\u001b[38;5;241;43m2\u001b[39;49m\n\u001b[1;32m      2\u001b[0m sq_array\n",
      "\u001b[0;31mTypeError\u001b[0m: unsupported operand type(s) for ** or pow(): 'list' and 'int'"
     ]
    }
   ],
   "source": [
    "sq_array = a**2\n",
    "sq_array"
   ]
  },
  {
   "cell_type": "code",
   "execution_count": 50,
   "id": "072571ce",
   "metadata": {},
   "outputs": [
    {
     "name": "stdout",
     "output_type": "stream",
     "text": [
      "mean is: 74\n",
      "STDV is: 150.42606157179014\n"
     ]
    }
   ],
   "source": [
    "import statistics as st\n",
    "print(\"mean is: \" + str(st.mean(sq_array)))\n",
    "print(\"STDV is: \" + str(st.stdev(sq_array)))"
   ]
  },
  {
   "cell_type": "code",
   "execution_count": 51,
   "id": "2f41e53f",
   "metadata": {},
   "outputs": [],
   "source": [
    "#6 subtract mean from each data point"
   ]
  },
  {
   "cell_type": "code",
   "execution_count": 54,
   "id": "ff91e081",
   "metadata": {},
   "outputs": [
    {
     "data": {
      "text/plain": [
       "array([  1,   7,   9,  20,  -5,  -4,  -3,  -3,  -3,  -9,   0, -10])"
      ]
     },
     "execution_count": 54,
     "metadata": {},
     "output_type": "execute_result"
    }
   ],
   "source": [
    "subtract_mean = (a - st.mean(a))\n",
    "subtract_mean"
   ]
  },
  {
   "cell_type": "code",
   "execution_count": 55,
   "id": "60d9c3ce",
   "metadata": {},
   "outputs": [],
   "source": [
    "#7 calculate the zscore"
   ]
  },
  {
   "cell_type": "code",
   "execution_count": 57,
   "id": "a341cfa0",
   "metadata": {},
   "outputs": [
    {
     "data": {
      "text/plain": [
       "array([ 0.12403473,  0.86824314,  1.11631261,  2.48069469, -0.62017367,\n",
       "       -0.49613894, -0.3721042 , -0.3721042 , -0.3721042 , -1.11631261,\n",
       "        0.        , -1.24034735])"
      ]
     },
     "execution_count": 57,
     "metadata": {},
     "output_type": "execute_result"
    }
   ],
   "source": [
    "import scipy.stats as stats\n",
    "stats.zscore(a)"
   ]
  },
  {
   "cell_type": "code",
   "execution_count": null,
   "id": "137fcd99",
   "metadata": {},
   "outputs": [],
   "source": []
  },
  {
   "cell_type": "code",
   "execution_count": 58,
   "id": "38e47753",
   "metadata": {},
   "outputs": [],
   "source": [
    "#7 more numpy exercises"
   ]
  },
  {
   "cell_type": "code",
   "execution_count": 59,
   "id": "e992b052",
   "metadata": {},
   "outputs": [],
   "source": [
    "a = [1, 2, 3, 4, 5, 6, 7, 8, 9, 10]"
   ]
  },
  {
   "cell_type": "code",
   "execution_count": 64,
   "id": "aeeec80b",
   "metadata": {},
   "outputs": [
    {
     "data": {
      "text/plain": [
       "55"
      ]
     },
     "execution_count": 64,
     "metadata": {},
     "output_type": "execute_result"
    }
   ],
   "source": [
    "sum_of_a = sum(a)\n",
    "sum_of_a"
   ]
  },
  {
   "cell_type": "code",
   "execution_count": 65,
   "id": "ee71e784",
   "metadata": {},
   "outputs": [
    {
     "data": {
      "text/plain": [
       "1"
      ]
     },
     "execution_count": 65,
     "metadata": {},
     "output_type": "execute_result"
    }
   ],
   "source": [
    "min_of_a = min(a)\n",
    "min_of_a"
   ]
  },
  {
   "cell_type": "code",
   "execution_count": 68,
   "id": "19d04ece",
   "metadata": {},
   "outputs": [
    {
     "data": {
      "text/plain": [
       "10"
      ]
     },
     "execution_count": 68,
     "metadata": {},
     "output_type": "execute_result"
    }
   ],
   "source": [
    "max_of_a = max(a)\n",
    "max_of_a"
   ]
  },
  {
   "cell_type": "code",
   "execution_count": 71,
   "id": "bdf553d1",
   "metadata": {},
   "outputs": [
    {
     "data": {
      "text/plain": [
       "5.5"
      ]
     },
     "execution_count": 71,
     "metadata": {},
     "output_type": "execute_result"
    }
   ],
   "source": [
    "mean_of_a = st.mean(a)\n",
    "mean_of_a"
   ]
  },
  {
   "cell_type": "code",
   "execution_count": 77,
   "id": "03faea62",
   "metadata": {},
   "outputs": [
    {
     "data": {
      "text/plain": [
       "3628800"
      ]
     },
     "execution_count": 77,
     "metadata": {},
     "output_type": "execute_result"
    }
   ],
   "source": [
    "import numpy as np\n",
    "product_of_a = np.prod(a)\n",
    "product_of_a"
   ]
  },
  {
   "cell_type": "code",
   "execution_count": 84,
   "id": "2d8a492d",
   "metadata": {},
   "outputs": [
    {
     "data": {
      "text/plain": [
       "[1, 4, 9, 16, 25, 36, 49, 64, 81, 100]"
      ]
     },
     "execution_count": 84,
     "metadata": {},
     "output_type": "execute_result"
    }
   ],
   "source": [
    "squares_of_a = [] \n",
    "for i in a:\n",
    "    squares_of_a.append(a[i-1]**2)\n",
    "\n",
    "squares_of_a"
   ]
  },
  {
   "cell_type": "code",
   "execution_count": 88,
   "id": "ef461af0",
   "metadata": {},
   "outputs": [
    {
     "data": {
      "text/plain": [
       "[1, 3, 5, 7, 9]"
      ]
     },
     "execution_count": 88,
     "metadata": {},
     "output_type": "execute_result"
    }
   ],
   "source": [
    "odds_in_a = []\n",
    "for i in a:\n",
    "    if a[i-1] % 2 != 0:\n",
    "        odds_in_a.append(a[i-1])\n",
    "    \n",
    "odds_in_a"
   ]
  },
  {
   "cell_type": "code",
   "execution_count": 89,
   "id": "b6b1a813",
   "metadata": {},
   "outputs": [
    {
     "data": {
      "text/plain": [
       "[2, 4, 6, 8, 10]"
      ]
     },
     "execution_count": 89,
     "metadata": {},
     "output_type": "execute_result"
    }
   ],
   "source": [
    "evens_in_a = []\n",
    "for i in a:\n",
    "    if a[i-1] % 2 == 0:\n",
    "        evens_in_a.append(a[i-1])\n",
    "    \n",
    "evens_in_a"
   ]
  },
  {
   "cell_type": "code",
   "execution_count": null,
   "id": "15091aeb",
   "metadata": {},
   "outputs": [],
   "source": [
    "centering = a - st.mean(a)"
   ]
  },
  {
   "cell_type": "code",
   "execution_count": null,
   "id": "e4580f9a",
   "metadata": {},
   "outputs": [],
   "source": [
    "zscore = scipy.stats.zscore(a)"
   ]
  },
  {
   "cell_type": "code",
   "execution_count": null,
   "id": "735d7fec",
   "metadata": {},
   "outputs": [],
   "source": []
  }
 ],
 "metadata": {
  "kernelspec": {
   "display_name": "Python 3 (ipykernel)",
   "language": "python",
   "name": "python3"
  },
  "language_info": {
   "codemirror_mode": {
    "name": "ipython",
    "version": 3
   },
   "file_extension": ".py",
   "mimetype": "text/x-python",
   "name": "python",
   "nbconvert_exporter": "python",
   "pygments_lexer": "ipython3",
   "version": "3.9.12"
  }
 },
 "nbformat": 4,
 "nbformat_minor": 5
}
