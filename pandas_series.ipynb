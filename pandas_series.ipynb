{
 "cells": [
  {
   "cell_type": "code",
   "execution_count": 181,
   "id": "56b184fc",
   "metadata": {},
   "outputs": [],
   "source": [
    "import pandas as pd\n",
    "import numpy as np"
   ]
  },
  {
   "cell_type": "code",
   "execution_count": 2,
   "id": "716bba3b",
   "metadata": {},
   "outputs": [],
   "source": [
    "fruits = pd.Series([\"kiwi\", \"mango\", \"strawberry\", \"pineapple\", \"gala apple\", \"honeycrisp apple\", \"tomato\", \"watermelon\", \"honeydew\", \"kiwi\", \"kiwi\", \"kiwi\", \"mango\", \"blueberry\", \"blackberry\", \"gooseberry\", \"papaya\"]\n",
    ")"
   ]
  },
  {
   "cell_type": "code",
   "execution_count": 3,
   "id": "8883d0e8",
   "metadata": {},
   "outputs": [
    {
     "data": {
      "text/plain": [
       "pandas.core.series.Series"
      ]
     },
     "execution_count": 3,
     "metadata": {},
     "output_type": "execute_result"
    }
   ],
   "source": [
    "type(fruits)"
   ]
  },
  {
   "cell_type": "code",
   "execution_count": null,
   "id": "e9f845f0",
   "metadata": {},
   "outputs": [],
   "source": []
  },
  {
   "cell_type": "code",
   "execution_count": 4,
   "id": "e8f182b9",
   "metadata": {},
   "outputs": [
    {
     "data": {
      "text/plain": [
       "17"
      ]
     },
     "execution_count": 4,
     "metadata": {},
     "output_type": "execute_result"
    }
   ],
   "source": [
    "len(fruits)"
   ]
  },
  {
   "cell_type": "code",
   "execution_count": null,
   "id": "21567063",
   "metadata": {},
   "outputs": [],
   "source": []
  },
  {
   "cell_type": "code",
   "execution_count": 5,
   "id": "5ac79a77",
   "metadata": {},
   "outputs": [
    {
     "data": {
      "text/plain": [
       "RangeIndex(start=0, stop=17, step=1)"
      ]
     },
     "execution_count": 5,
     "metadata": {},
     "output_type": "execute_result"
    }
   ],
   "source": [
    "fruits.index"
   ]
  },
  {
   "cell_type": "code",
   "execution_count": 6,
   "id": "61da4dd7",
   "metadata": {},
   "outputs": [
    {
     "name": "stdout",
     "output_type": "stream",
     "text": [
      "RangeIndex(start=0, stop=17, step=1)\n"
     ]
    }
   ],
   "source": [
    "print(fruits.index)"
   ]
  },
  {
   "cell_type": "code",
   "execution_count": 97,
   "id": "162a00ce",
   "metadata": {},
   "outputs": [
    {
     "data": {
      "text/plain": [
       "[0, 1, 2, 3, 4, 5, 6, 7, 8, 9, 10, 11, 12, 13, 14, 15, 16]"
      ]
     },
     "execution_count": 97,
     "metadata": {},
     "output_type": "execute_result"
    }
   ],
   "source": [
    "list(fruits.index)"
   ]
  },
  {
   "cell_type": "code",
   "execution_count": 7,
   "id": "64cb0113",
   "metadata": {},
   "outputs": [
    {
     "name": "stdout",
     "output_type": "stream",
     "text": [
      "kiwi\n",
      "mango\n",
      "strawberry\n",
      "pineapple\n",
      "gala apple\n",
      "honeycrisp apple\n",
      "tomato\n",
      "watermelon\n",
      "honeydew\n",
      "kiwi\n",
      "kiwi\n",
      "kiwi\n",
      "mango\n",
      "blueberry\n",
      "blackberry\n",
      "gooseberry\n",
      "papaya\n"
     ]
    }
   ],
   "source": [
    "#if fruits is in a series, use fruits.values\n",
    "for x in fruits:\n",
    "    print(x)\n",
    "    #print(fruits[x])"
   ]
  },
  {
   "cell_type": "code",
   "execution_count": 99,
   "id": "f0f2a8b9",
   "metadata": {},
   "outputs": [
    {
     "data": {
      "text/plain": [
       "dtype('O')"
      ]
     },
     "execution_count": 99,
     "metadata": {},
     "output_type": "execute_result"
    }
   ],
   "source": [
    "fruits.dtype"
   ]
  },
  {
   "cell_type": "code",
   "execution_count": 101,
   "id": "9c17ad86",
   "metadata": {},
   "outputs": [],
   "source": [
    "#if fruits is in a series, use fruits.dtype\n",
    "#for x in fruits:\n",
    "#    print(type(x))"
   ]
  },
  {
   "cell_type": "code",
   "execution_count": 103,
   "id": "a540cae1",
   "metadata": {},
   "outputs": [],
   "source": [
    "#This command will pull up docfiles for the head method\n",
    "#can be used for the other functions and things\n",
    "pd.Series.head?"
   ]
  },
  {
   "cell_type": "code",
   "execution_count": 9,
   "id": "88c11702",
   "metadata": {},
   "outputs": [
    {
     "name": "stdout",
     "output_type": "stream",
     "text": [
      "kiwi\n",
      "mango\n",
      "strawberry\n",
      "pineapple\n",
      "gala apple\n"
     ]
    }
   ],
   "source": [
    "p = 0\n",
    "while p < 5:\n",
    "    print(fruits[p])\n",
    "    p += 1"
   ]
  },
  {
   "cell_type": "code",
   "execution_count": 104,
   "id": "dbd19538",
   "metadata": {},
   "outputs": [
    {
     "name": "stdout",
     "output_type": "stream",
     "text": [
      "papaya\n",
      "gooseberry\n",
      "blackberry\n"
     ]
    }
   ],
   "source": [
    "fruits.head(5)\n",
    "fruits.tail(3)\n",
    "p = (len(fruits)) -1\n",
    "q = 3\n",
    "while q > 0:\n",
    "    print(fruits[p])\n",
    "    p -= 1\n",
    "    q -= 1"
   ]
  },
  {
   "cell_type": "code",
   "execution_count": 105,
   "id": "54a04985",
   "metadata": {},
   "outputs": [
    {
     "name": "stdout",
     "output_type": "stream",
     "text": [
      "papaya\n",
      "blueberry\n"
     ]
    }
   ],
   "source": [
    "#sample is very useful when datasets get larger\n",
    "#fruits.sample(2)\n",
    "import random\n",
    "p = 2\n",
    "while p > 0:\n",
    "    r = random.randint(1, 16)\n",
    "    print(fruits[r])\n",
    "    p -= 1"
   ]
  },
  {
   "cell_type": "code",
   "execution_count": null,
   "id": "7da9d174",
   "metadata": {},
   "outputs": [],
   "source": []
  },
  {
   "cell_type": "code",
   "execution_count": 18,
   "id": "a0f7851c",
   "metadata": {},
   "outputs": [
    {
     "data": {
      "text/plain": [
       "count       17\n",
       "unique      13\n",
       "top       kiwi\n",
       "freq         4\n",
       "dtype: object"
      ]
     },
     "execution_count": 18,
     "metadata": {},
     "output_type": "execute_result"
    }
   ],
   "source": [
    "fruits.describe()"
   ]
  },
  {
   "cell_type": "code",
   "execution_count": 22,
   "id": "55e8d697",
   "metadata": {},
   "outputs": [
    {
     "data": {
      "text/plain": [
       "2           strawberry\n",
       "3            pineapple\n",
       "4           gala apple\n",
       "5     honeycrisp apple\n",
       "6               tomato\n",
       "7           watermelon\n",
       "8             honeydew\n",
       "13           blueberry\n",
       "14          blackberry\n",
       "15          gooseberry\n",
       "16              papaya\n",
       "dtype: object"
      ]
     },
     "execution_count": 22,
     "metadata": {},
     "output_type": "execute_result"
    }
   ],
   "source": [
    "#more easily you can use set(fruits) and it will autodrop duplicates\n",
    "#also fruits.unique\n",
    "fruits.drop_duplicates(keep = False)"
   ]
  },
  {
   "cell_type": "code",
   "execution_count": 24,
   "id": "75543c79",
   "metadata": {},
   "outputs": [
    {
     "data": {
      "text/plain": [
       "13"
      ]
     },
     "execution_count": 24,
     "metadata": {},
     "output_type": "execute_result"
    }
   ],
   "source": [
    "counts = fruits.nunique()\n",
    "counts"
   ]
  },
  {
   "cell_type": "code",
   "execution_count": 106,
   "id": "91ed3d67",
   "metadata": {},
   "outputs": [
    {
     "data": {
      "text/plain": [
       "dict_values([4, 2, 1, 1, 1, 1, 1, 1, 1, 1, 1, 1, 1])"
      ]
     },
     "execution_count": 106,
     "metadata": {},
     "output_type": "execute_result"
    }
   ],
   "source": [
    "#fruits.value_counts \n",
    "from collections import Counter\n",
    "Counter(fruits.keys())\n",
    "Counter(fruits).values()"
   ]
  },
  {
   "cell_type": "code",
   "execution_count": 109,
   "id": "f7862202",
   "metadata": {},
   "outputs": [
    {
     "name": "stdout",
     "output_type": "stream",
     "text": [
      "['blackberry' 'blueberry' 'gala apple' 'gooseberry' 'honeycrisp apple'\n",
      " 'honeydew' 'kiwi' 'mango' 'papaya' 'pineapple' 'strawberry' 'tomato'\n",
      " 'watermelon']\n",
      "[1 1 1 1 1 1 4 2 1 1 1 1 1]\n"
     ]
    }
   ],
   "source": [
    "#fruits.nsmallest will find the value/s that have the least occurences\n",
    "#fruits.value_counts() creates a series and we can use methods on it\n",
    "#fruits.value().nsmallest(n=10, keep='all') n will be # of items returned\n",
    "values, counts = np.unique(fruits, return_counts=True)\n",
    "print(values)\n",
    "print(counts)"
   ]
  },
  {
   "cell_type": "code",
   "execution_count": 43,
   "id": "a6e6137a",
   "metadata": {},
   "outputs": [
    {
     "data": {
      "text/plain": [
       "int"
      ]
     },
     "execution_count": 43,
     "metadata": {},
     "output_type": "execute_result"
    }
   ],
   "source": []
  },
  {
   "cell_type": "markdown",
   "id": "b627c884",
   "metadata": {},
   "source": [
    "# exercises pt 2"
   ]
  },
  {
   "cell_type": "code",
   "execution_count": 111,
   "id": "90d9a49f",
   "metadata": {},
   "outputs": [],
   "source": [
    "#telling python/pandas to apply the string method to elements of fruits\n",
    "#fruits.str.capitalize()\n",
    "for x in fruits:\n",
    "    qp = len(fruits)\n",
    "    x = 0\n",
    "    capitalized = []\n",
    "    while qp > 0:\n",
    "        capitalized.append(str.capitalize(fruits[x]))\n",
    "        x += 1\n",
    "        qp -= 1"
   ]
  },
  {
   "cell_type": "code",
   "execution_count": 51,
   "id": "adee3b9c",
   "metadata": {},
   "outputs": [
    {
     "data": {
      "text/plain": [
       "['Kiwi',\n",
       " 'Mango',\n",
       " 'Strawberry',\n",
       " 'Pineapple',\n",
       " 'Gala apple',\n",
       " 'Honeycrisp apple',\n",
       " 'Tomato',\n",
       " 'Watermelon',\n",
       " 'Honeydew',\n",
       " 'Kiwi',\n",
       " 'Kiwi',\n",
       " 'Kiwi',\n",
       " 'Mango',\n",
       " 'Blueberry',\n",
       " 'Blackberry',\n",
       " 'Gooseberry',\n",
       " 'Papaya']"
      ]
     },
     "execution_count": 51,
     "metadata": {},
     "output_type": "execute_result"
    }
   ],
   "source": [
    "capitalized"
   ]
  },
  {
   "cell_type": "code",
   "execution_count": 59,
   "id": "b9d582f4",
   "metadata": {},
   "outputs": [
    {
     "data": {
      "text/plain": [
       "'mango'"
      ]
     },
     "execution_count": 59,
     "metadata": {},
     "output_type": "execute_result"
    }
   ],
   "source": [
    "fruits[1]"
   ]
  },
  {
   "cell_type": "code",
   "execution_count": 68,
   "id": "e8aae62e",
   "metadata": {},
   "outputs": [],
   "source": [
    "#using apply with a lambda function\n",
    "#the labda function is taking in the value x from the Series' cell\n",
    "#outpittung that value, concat it with a hardcoded string literal\n",
    "#then concat those values with the count\n",
    "#fruits.apply(lamba x: x + ' count of a: ' + str(x.count('a')))\n",
    "one_string = \"\"\n",
    "x = 0\n",
    "for ip in fruits:\n",
    "    one_string = one_string + fruits[x]\n",
    "    x += 1\n",
    "    if x >= len(fruits):\n",
    "        break\n",
    "countA = one_string.count('a')"
   ]
  },
  {
   "cell_type": "code",
   "execution_count": 74,
   "id": "98ab206a",
   "metadata": {},
   "outputs": [
    {
     "data": {
      "text/plain": [
       "'kiwimangostrawberrypineapplegala applehoneycrisp appletomatowatermelonhoneydewkiwikiwikiwimangoblueberryblackberrygooseberrypapaya'"
      ]
     },
     "execution_count": 74,
     "metadata": {},
     "output_type": "execute_result"
    }
   ],
   "source": [
    "one_string"
   ]
  },
  {
   "cell_type": "code",
   "execution_count": 75,
   "id": "2a2deb39",
   "metadata": {},
   "outputs": [
    {
     "data": {
      "text/plain": [
       "14"
      ]
     },
     "execution_count": 75,
     "metadata": {},
     "output_type": "execute_result"
    }
   ],
   "source": [
    "countA"
   ]
  },
  {
   "cell_type": "code",
   "execution_count": 70,
   "id": "0505e850",
   "metadata": {},
   "outputs": [],
   "source": []
  },
  {
   "cell_type": "code",
   "execution_count": 83,
   "id": "38c80495",
   "metadata": {},
   "outputs": [],
   "source": [
    "one_string_vows = \"\"\n",
    "x = 0\n",
    "for ip in fruits:\n",
    "    one_string_vows = one_string_vows + fruits[x]\n",
    "    x += 1\n",
    "    if x >= len(fruits):\n",
    "        break\n",
    "count_vows += one_string_vows.count('a')\n",
    "count_vows += one_string_vows.count('e')\n",
    "count_vows += one_string_vows.count('i')\n",
    "count_vows += one_string_vows.count('o')\n",
    "count_vows += one_string_vows.count('u')"
   ]
  },
  {
   "cell_type": "code",
   "execution_count": 84,
   "id": "7ea80e94",
   "metadata": {},
   "outputs": [
    {
     "data": {
      "text/plain": [
       "'kiwimangostrawberrypineapplegala applehoneycrisp appletomatowatermelonhoneydewkiwikiwikiwimangoblueberryblackberrygooseberrypapaya'"
      ]
     },
     "execution_count": 84,
     "metadata": {},
     "output_type": "execute_result"
    }
   ],
   "source": [
    "one_string_vows"
   ]
  },
  {
   "cell_type": "code",
   "execution_count": 112,
   "id": "f434a4e0",
   "metadata": {},
   "outputs": [
    {
     "data": {
      "text/plain": [
       "49"
      ]
     },
     "execution_count": 112,
     "metadata": {},
     "output_type": "execute_result"
    }
   ],
   "source": [
    "count_vows"
   ]
  },
  {
   "cell_type": "code",
   "execution_count": null,
   "id": "3509e9e7",
   "metadata": {},
   "outputs": [],
   "source": []
  },
  {
   "cell_type": "code",
   "execution_count": null,
   "id": "cd53ba76",
   "metadata": {},
   "outputs": [],
   "source": [
    "#every letter inside of our fruit variable but only if it falls\n",
    "#in our defined list of vowels that we establish\n",
    "#then take the length of that thing"
   ]
  },
  {
   "cell_type": "code",
   "execution_count": 115,
   "id": "a7386e3c",
   "metadata": {},
   "outputs": [],
   "source": [
    "def count_vowels(some_word):\n",
    "    return len([let for let in some_word.lower() if let in ['a', 'e', 'i', 'o', 'u']])"
   ]
  },
  {
   "cell_type": "code",
   "execution_count": 116,
   "id": "7d413b0b",
   "metadata": {},
   "outputs": [
    {
     "data": {
      "text/plain": [
       "2"
      ]
     },
     "execution_count": 116,
     "metadata": {},
     "output_type": "execute_result"
    }
   ],
   "source": [
    "count_vowels('grape')"
   ]
  },
  {
   "cell_type": "markdown",
   "id": "2fe3c7d7",
   "metadata": {},
   "source": [
    "# longest string value\n"
   ]
  },
  {
   "cell_type": "code",
   "execution_count": 95,
   "id": "790b18dc",
   "metadata": {},
   "outputs": [
    {
     "name": "stdout",
     "output_type": "stream",
     "text": [
      "\n"
     ]
    }
   ],
   "source": [
    "biggest_yet = \"\"\n",
    "def find_longest_string():\n",
    "    for i in fruits:\n",
    "        print(fruits[i])\n",
    "        if len(fruits[i]) > len(biggest_yet):\n",
    "            biggest_yet = fruits[i]\n",
    "            print(fruits[i])\n",
    "            print(biggest_yet)\n",
    "print(biggest_yet)"
   ]
  },
  {
   "cell_type": "code",
   "execution_count": 119,
   "id": "be93e3ce",
   "metadata": {},
   "outputs": [
    {
     "data": {
      "text/plain": [
       "16"
      ]
     },
     "execution_count": 119,
     "metadata": {},
     "output_type": "execute_result"
    }
   ],
   "source": [
    "fruits.str.len().max()\n"
   ]
  },
  {
   "cell_type": "code",
   "execution_count": 123,
   "id": "48c9d7b1",
   "metadata": {},
   "outputs": [
    {
     "data": {
      "text/plain": [
       "5    honeycrisp apple\n",
       "dtype: object"
      ]
     },
     "execution_count": 123,
     "metadata": {},
     "output_type": "execute_result"
    }
   ],
   "source": [
    "#think about use of [] as english word 'where'\n",
    "bool_mask = fruits.str.len() == fruits.str.len().max()\n",
    "fruits[bool_mask]"
   ]
  },
  {
   "cell_type": "code",
   "execution_count": null,
   "id": "0f5f9452",
   "metadata": {},
   "outputs": [],
   "source": []
  },
  {
   "cell_type": "code",
   "execution_count": 125,
   "id": "ada10aae",
   "metadata": {},
   "outputs": [],
   "source": [
    "#return things with 5 or more letters\n",
    "#str.len() > 5"
   ]
  },
  {
   "cell_type": "code",
   "execution_count": 127,
   "id": "e1d9f760",
   "metadata": {},
   "outputs": [
    {
     "data": {
      "text/plain": [
       "1                mango\n",
       "2           strawberry\n",
       "3            pineapple\n",
       "4           gala apple\n",
       "5     honeycrisp apple\n",
       "6               tomato\n",
       "7           watermelon\n",
       "8             honeydew\n",
       "12               mango\n",
       "13           blueberry\n",
       "14          blackberry\n",
       "15          gooseberry\n",
       "16              papaya\n",
       "dtype: object"
      ]
     },
     "execution_count": 127,
     "metadata": {},
     "output_type": "execute_result"
    }
   ],
   "source": [
    "fruits[fruits.str.len() >= 5]"
   ]
  },
  {
   "cell_type": "code",
   "execution_count": 128,
   "id": "11fac776",
   "metadata": {},
   "outputs": [],
   "source": [
    "#with letter O two or more times\n",
    "#use count()"
   ]
  },
  {
   "cell_type": "code",
   "execution_count": 129,
   "id": "bc6c572c",
   "metadata": {},
   "outputs": [
    {
     "data": {
      "text/plain": [
       "6         tomato\n",
       "15    gooseberry\n",
       "dtype: object"
      ]
     },
     "execution_count": 129,
     "metadata": {},
     "output_type": "execute_result"
    }
   ],
   "source": [
    "fruits[fruits.str.lower().str.count('o') >= 2]\n",
    "#must use .str again after calling str.lower()"
   ]
  },
  {
   "cell_type": "code",
   "execution_count": null,
   "id": "815065cc",
   "metadata": {},
   "outputs": [],
   "source": []
  },
  {
   "cell_type": "code",
   "execution_count": 130,
   "id": "30c6a570",
   "metadata": {},
   "outputs": [
    {
     "data": {
      "text/plain": [
       "True"
      ]
     },
     "execution_count": 130,
     "metadata": {},
     "output_type": "execute_result"
    }
   ],
   "source": [
    "#get only strings with substring 'berry'\n",
    "'berry' in 'blueberry'"
   ]
  },
  {
   "cell_type": "code",
   "execution_count": 133,
   "id": "eeb41415",
   "metadata": {},
   "outputs": [
    {
     "data": {
      "text/plain": [
       "2     strawberry\n",
       "13     blueberry\n",
       "14    blackberry\n",
       "15    gooseberry\n",
       "dtype: object"
      ]
     },
     "execution_count": 133,
     "metadata": {},
     "output_type": "execute_result"
    }
   ],
   "source": [
    "#fruits.apply 'berry' is a substring inside of the fed-in value of x\n",
    "fruits[fruits.apply(lambda x: 'berry' in x)]"
   ]
  },
  {
   "cell_type": "code",
   "execution_count": 134,
   "id": "e5e49ddb",
   "metadata": {},
   "outputs": [
    {
     "data": {
      "text/plain": [
       "3           pineapple\n",
       "4          gala apple\n",
       "5    honeycrisp apple\n",
       "dtype: object"
      ]
     },
     "execution_count": 134,
     "metadata": {},
     "output_type": "execute_result"
    }
   ],
   "source": [
    "#fruits containing apple\n",
    "fruits[fruits.apply(lambda x: 'apple' in x)]"
   ]
  },
  {
   "cell_type": "code",
   "execution_count": 140,
   "id": "d35c22ae",
   "metadata": {},
   "outputs": [
    {
     "data": {
      "text/plain": [
       "5    honeycrisp apple\n",
       "dtype: object"
      ]
     },
     "execution_count": 140,
     "metadata": {},
     "output_type": "execute_result"
    }
   ],
   "source": [
    "#which one contains the most vowels\n",
    "bool_mask2 = fruits.apply(count_vowels) == fruits.apply(count_vowels).max()\n",
    "fruits[bool_mask2]"
   ]
  },
  {
   "cell_type": "code",
   "execution_count": null,
   "id": "54b8f812",
   "metadata": {},
   "outputs": [],
   "source": []
  },
  {
   "cell_type": "markdown",
   "id": "875b1669",
   "metadata": {},
   "source": [
    "# Exercises part 3"
   ]
  },
  {
   "cell_type": "code",
   "execution_count": 141,
   "id": "4c5b32ef",
   "metadata": {},
   "outputs": [],
   "source": [
    "letters ='hnvidduckkqxwymbimkccexbkmqygkxoyndmcxnwqarhyffsjpsrabtjzsypmzadfavyrnndndvswreauxovncxtwzpwejilzjrmmbbgbyxvjtewqthafnbkqplarokkyydtubbmnexoypulzwfhqvckdpqtpoppzqrmcvhhpwgjwupgzhiofohawytlsiyecuproguy'\n"
   ]
  },
  {
   "cell_type": "code",
   "execution_count": 143,
   "id": "0ba99311",
   "metadata": {},
   "outputs": [],
   "source": [
    "#we can cast str literal into a list then cast that into a series\n",
    "list(letters)\n",
    "letters = pd.Series(list(letters))"
   ]
  },
  {
   "cell_type": "code",
   "execution_count": 144,
   "id": "cf25f9cb",
   "metadata": {},
   "outputs": [
    {
     "data": {
      "text/plain": [
       "y    13\n",
       "dtype: int64"
      ]
     },
     "execution_count": 144,
     "metadata": {},
     "output_type": "execute_result"
    }
   ],
   "source": [
    "#which letter occurrs the most frequently\n",
    "letters.value_counts().head(1)"
   ]
  },
  {
   "cell_type": "code",
   "execution_count": 146,
   "id": "2e7bdad7",
   "metadata": {},
   "outputs": [
    {
     "data": {
      "text/plain": [
       "l    4\n",
       "dtype: int64"
      ]
     },
     "execution_count": 146,
     "metadata": {},
     "output_type": "execute_result"
    }
   ],
   "source": [
    "#letters.value_counts().idxmax returns the index value of the maxcjv√µ˜∆\n",
    "#which letter occurrs least frequently\n",
    "letters.value_counts().nsmallest(n=1, keep='all')"
   ]
  },
  {
   "cell_type": "code",
   "execution_count": 149,
   "id": "8bf02217",
   "metadata": {},
   "outputs": [
    {
     "data": {
      "text/plain": [
       "34"
      ]
     },
     "execution_count": 149,
     "metadata": {},
     "output_type": "execute_result"
    }
   ],
   "source": [
    "#how many vowels are in the series\n",
    "def is_vowel(some_word):\n",
    "    return some_word in ['a', 'e', 'i', 'o', 'u']\n",
    "letters.str.lower().apply(is_vowel).sum()"
   ]
  },
  {
   "cell_type": "code",
   "execution_count": 155,
   "id": "88705a52",
   "metadata": {},
   "outputs": [
    {
     "data": {
      "text/plain": [
       "166"
      ]
     },
     "execution_count": 155,
     "metadata": {},
     "output_type": "execute_result"
    }
   ],
   "source": [
    "#how many consonants\n",
    "# using a ~ is like a vectorized NOT statement\n",
    "#we can't just put 'not' in front of the whole thing\n",
    "#so the tilde says apply idea of 'not' to every instance in the Series\n",
    "#output by my vowel check. It is a pandas thing\n",
    "#sum has to be outside, otherwise it will just made the vowels total negative\n",
    "(~letters.str.lower().apply(is_vowel)).sum()"
   ]
  },
  {
   "cell_type": "code",
   "execution_count": null,
   "id": "9c6b2c7f",
   "metadata": {},
   "outputs": [],
   "source": []
  },
  {
   "cell_type": "code",
   "execution_count": 156,
   "id": "35fd4747",
   "metadata": {},
   "outputs": [],
   "source": [
    "#create series that has all values but uppercase"
   ]
  },
  {
   "cell_type": "code",
   "execution_count": 162,
   "id": "17351281",
   "metadata": {},
   "outputs": [],
   "source": [
    "import matplotlib.pyplot as plt"
   ]
  },
  {
   "cell_type": "code",
   "execution_count": 163,
   "id": "287962af",
   "metadata": {},
   "outputs": [],
   "source": [
    "#create bar plot that has frequencies of 6 most common letters"
   ]
  },
  {
   "cell_type": "code",
   "execution_count": 165,
   "id": "7e56077e",
   "metadata": {
    "scrolled": true
   },
   "outputs": [
    {
     "data": {
      "text/plain": [
       "Text(0.5, 1.0, 'six most frequent letters')"
      ]
     },
     "execution_count": 165,
     "metadata": {},
     "output_type": "execute_result"
    },
    {
     "data": {
      "image/png": "[encoded data removed]",
      "text/plain": [
       "<Figure size 432x288 with 1 Axes>"
      ]
     },
     "metadata": {
      "needs_background": "light"
     },
     "output_type": "display_data"
    }
   ],
   "source": [
    "letters.value_counts().head(6).plot(kind='barh')\n",
    "plt.title('six most frequent letters')"
   ]
  },
  {
   "cell_type": "code",
   "execution_count": null,
   "id": "3e6760c5",
   "metadata": {},
   "outputs": [],
   "source": []
  },
  {
   "cell_type": "code",
   "execution_count": 166,
   "id": "67cafe08",
   "metadata": {},
   "outputs": [],
   "source": [
    "numbers = ['$796,459.41', '$278.60', '$482,571.67', '$4,503,915.98', '$2,121,418.3', '$1,260,813.3', '$87,231.01', '$1,509,175.45', '$4,138,548.00', '$2,848,913.80', '$594,715.39', '$4,789,988.17', '$4,513,644.5', '$3,191,059.97', '$1,758,712.24', '$4,338,283.54', '$4,738,303.38', '$2,791,759.67', '$769,681.94', '$452,650.23']\n"
   ]
  },
  {
   "cell_type": "code",
   "execution_count": 169,
   "id": "1678bcd8",
   "metadata": {},
   "outputs": [],
   "source": [
    "numbers = pd.Series(numbers)"
   ]
  },
  {
   "cell_type": "code",
   "execution_count": 170,
   "id": "ad6eb649",
   "metadata": {},
   "outputs": [],
   "source": [
    "#how mmany elements are there"
   ]
  },
  {
   "cell_type": "code",
   "execution_count": 171,
   "id": "c92b5bb8",
   "metadata": {},
   "outputs": [
    {
     "data": {
      "text/plain": [
       "20"
      ]
     },
     "execution_count": 171,
     "metadata": {},
     "output_type": "execute_result"
    }
   ],
   "source": [
    "numbers.size"
   ]
  },
  {
   "cell_type": "code",
   "execution_count": 172,
   "id": "b8164664",
   "metadata": {},
   "outputs": [
    {
     "data": {
      "text/plain": [
       "<bound method IndexOpsMixin.nunique of 0       $796,459.41\n",
       "1           $278.60\n",
       "2       $482,571.67\n",
       "3     $4,503,915.98\n",
       "4      $2,121,418.3\n",
       "5      $1,260,813.3\n",
       "6        $87,231.01\n",
       "7     $1,509,175.45\n",
       "8     $4,138,548.00\n",
       "9     $2,848,913.80\n",
       "10      $594,715.39\n",
       "11    $4,789,988.17\n",
       "12     $4,513,644.5\n",
       "13    $3,191,059.97\n",
       "14    $1,758,712.24\n",
       "15    $4,338,283.54\n",
       "16    $4,738,303.38\n",
       "17    $2,791,759.67\n",
       "18      $769,681.94\n",
       "19      $452,650.23\n",
       "dtype: object>"
      ]
     },
     "execution_count": 172,
     "metadata": {},
     "output_type": "execute_result"
    }
   ],
   "source": [
    "numbers.nunique"
   ]
  },
  {
   "cell_type": "code",
   "execution_count": 175,
   "id": "94cd4854",
   "metadata": {},
   "outputs": [
    {
     "name": "stderr",
     "output_type": "stream",
     "text": [
      "/var/folders/wt/3cxh0y194wx3qr52k_wthmwc0000gn/T/ipykernel_25070/458634101.py:2: FutureWarning: The default value of regex will change from True to False in a future version. In addition, single character regular expressions will *not* be treated as literal strings when regex=True.\n",
      "  numbers = numbers.str.replace('$','').str.replace(',','').astype(float)\n"
     ]
    }
   ],
   "source": [
    "#convert numbers series to a numeric data type\n",
    "numbers = numbers.str.replace('$','').str.replace(',','').astype(float)"
   ]
  },
  {
   "cell_type": "code",
   "execution_count": 176,
   "id": "9fc0c14d",
   "metadata": {},
   "outputs": [
    {
     "data": {
      "text/plain": [
       "4789988.17"
      ]
     },
     "execution_count": 176,
     "metadata": {},
     "output_type": "execute_result"
    }
   ],
   "source": [
    "#returnt he maximum value\n",
    "numbers.max()"
   ]
  },
  {
   "cell_type": "code",
   "execution_count": 177,
   "id": "af38459d",
   "metadata": {},
   "outputs": [
    {
     "data": {
      "text/plain": [
       "278.6"
      ]
     },
     "execution_count": 177,
     "metadata": {},
     "output_type": "execute_result"
    }
   ],
   "source": [
    "numbers.min()"
   ]
  },
  {
   "cell_type": "code",
   "execution_count": 178,
   "id": "8f59bfbb",
   "metadata": {},
   "outputs": [
    {
     "data": {
      "text/plain": [
       "4789709.57"
      ]
     },
     "execution_count": 178,
     "metadata": {},
     "output_type": "execute_result"
    }
   ],
   "source": [
    "#range of values\n",
    "numbers.max() - numbers.min()"
   ]
  },
  {
   "cell_type": "code",
   "execution_count": 179,
   "id": "1a349bed",
   "metadata": {},
   "outputs": [
    {
     "data": {
      "text/plain": [
       "count    2.000000e+01\n",
       "mean     2.284406e+06\n",
       "std      1.735261e+06\n",
       "min      2.786000e+02\n",
       "25%      7.259403e+05\n",
       "50%      1.940065e+06\n",
       "75%      4.188482e+06\n",
       "max      4.789988e+06\n",
       "dtype: float64"
      ]
     },
     "execution_count": 179,
     "metadata": {},
     "output_type": "execute_result"
    }
   ],
   "source": [
    "numbers.describe()"
   ]
  },
  {
   "cell_type": "code",
   "execution_count": 184,
   "id": "8c52cd23",
   "metadata": {},
   "outputs": [
    {
     "data": {
      "text/plain": [
       "(-4511.11, 1197705.993]       7\n",
       "(1197705.993, 2395133.385]    4\n",
       "(2395133.385, 3592560.778]    3\n",
       "(3592560.778, 4789988.17]     6\n",
       "dtype: int64"
      ]
     },
     "execution_count": 184,
     "metadata": {},
     "output_type": "execute_result"
    }
   ],
   "source": [
    "#bin data in 4 equally sized intervals and output how many in each\n",
    "pd.cut(numbers, 4).value_counts().sort_index()"
   ]
  },
  {
   "cell_type": "code",
   "execution_count": 187,
   "id": "67f9d251",
   "metadata": {},
   "outputs": [
    {
     "data": {
      "image/png": "[encoded data removed]",
      "text/plain": [
       "<Figure size 432x288 with 1 Axes>"
      ]
     },
     "metadata": {
      "needs_background": "light"
     },
     "output_type": "display_data"
    }
   ],
   "source": [
    "#plot the binned data in a meaningful way. Included title and axis label\n",
    "pd.cut(numbers, 4).value_counts().sort_index().plot(kind = 'barh')\n",
    "plt.title('4bins')\n",
    "plt.xlabel('x')\n",
    "plt.ylabel('y')\n",
    "plt.show()"
   ]
  },
  {
   "cell_type": "code",
   "execution_count": 191,
   "id": "0169cb32",
   "metadata": {},
   "outputs": [
    {
     "data": {
      "text/plain": [
       "pandas.core.series.Series"
      ]
     },
     "execution_count": 191,
     "metadata": {},
     "output_type": "execute_result"
    }
   ],
   "source": [
    "exam_scores = [60, 86, 75, 62, 93, 71, 60, 83, 95, 78, 65, 72, 69, 81, 96, 80, 85, 92, 82, 78]\n",
    "\n",
    "exam_scores = pd.Series(exam_scores)\n",
    "type(exam_scores)"
   ]
  },
  {
   "cell_type": "code",
   "execution_count": 192,
   "id": "deb81be0",
   "metadata": {},
   "outputs": [
    {
     "data": {
      "text/plain": [
       "20"
      ]
     },
     "execution_count": 192,
     "metadata": {},
     "output_type": "execute_result"
    }
   ],
   "source": [
    "exam_scores.size"
   ]
  },
  {
   "cell_type": "code",
   "execution_count": 193,
   "id": "37b7790d",
   "metadata": {},
   "outputs": [
    {
     "data": {
      "text/plain": [
       "18"
      ]
     },
     "execution_count": 193,
     "metadata": {},
     "output_type": "execute_result"
    }
   ],
   "source": [
    "exam_scores.nunique()"
   ]
  },
  {
   "cell_type": "code",
   "execution_count": 196,
   "id": "6a556e9d",
   "metadata": {},
   "outputs": [
    {
     "data": {
      "image/png": "[encoded data removed]",
      "text/plain": [
       "<Figure size 432x288 with 1 Axes>"
      ]
     },
     "metadata": {
      "needs_background": "light"
     },
     "output_type": "display_data"
    }
   ],
   "source": [
    "exam_scores.plot.hist()\n",
    "plt.title(\"distrb\")\n",
    "plt.xlabel('scores')\n",
    "plt.show()"
   ]
  },
  {
   "cell_type": "code",
   "execution_count": 200,
   "id": "3f38cf83",
   "metadata": {},
   "outputs": [
    {
     "data": {
      "text/plain": [
       "4"
      ]
     },
     "execution_count": 200,
     "metadata": {},
     "output_type": "execute_result"
    }
   ],
   "source": [
    "#grade curve\n",
    "100 - exam_scores.max()\n",
    "#curved_grades = "
   ]
  },
  {
   "cell_type": "code",
   "execution_count": 201,
   "id": "56960032",
   "metadata": {},
   "outputs": [
    {
     "data": {
      "text/plain": [
       "60"
      ]
     },
     "execution_count": 201,
     "metadata": {},
     "output_type": "execute_result"
    }
   ],
   "source": [
    "exam_scores.min()"
   ]
  },
  {
   "cell_type": "code",
   "execution_count": 207,
   "id": "4707c482",
   "metadata": {},
   "outputs": [],
   "source": [
    "curved_grades = exam_scores + (100 - exam_scores.max())"
   ]
  },
  {
   "cell_type": "code",
   "execution_count": 208,
   "id": "b4ab2211",
   "metadata": {},
   "outputs": [],
   "source": [
    "#convert into number grades\n",
    "bin_edges = [0,70, 75, 80, 90, 100]\n",
    "bin_labels = ['F', 'D', 'C', 'B', 'A']\n",
    "letter_grades = pd.cut(curved_grades, bins = bin_edges, labels = bin_labels)"
   ]
  },
  {
   "cell_type": "code",
   "execution_count": 209,
   "id": "43856b73",
   "metadata": {},
   "outputs": [
    {
     "data": {
      "text/plain": [
       "0     F\n",
       "1     B\n",
       "2     C\n",
       "3     F\n",
       "4     A\n",
       "5     D\n",
       "6     F\n",
       "7     B\n",
       "8     A\n",
       "9     B\n",
       "10    F\n",
       "11    C\n",
       "12    D\n",
       "13    B\n",
       "14    A\n",
       "15    B\n",
       "16    B\n",
       "17    A\n",
       "18    B\n",
       "19    B\n",
       "dtype: category\n",
       "Categories (5, object): ['F' < 'D' < 'C' < 'B' < 'A']"
      ]
     },
     "execution_count": 209,
     "metadata": {},
     "output_type": "execute_result"
    }
   ],
   "source": [
    "letter_grades"
   ]
  },
  {
   "cell_type": "code",
   "execution_count": 213,
   "id": "ed8a876e",
   "metadata": {},
   "outputs": [
    {
     "data": {
      "image/png": "[encoded data removed]",
      "text/plain": [
       "<Figure size 432x288 with 1 Axes>"
      ]
     },
     "metadata": {
      "needs_background": "light"
     },
     "output_type": "display_data"
    }
   ],
   "source": [
    "letter_grades.value_counts().sort_index().plot.barh()\n",
    "plt.title('curved letter grades')\n",
    "plt.show()"
   ]
  },
  {
   "cell_type": "code",
   "execution_count": null,
   "id": "fcfebb3a",
   "metadata": {},
   "outputs": [],
   "source": []
  }
 ],
 "metadata": {
  "kernelspec": {
   "display_name": "Python 3 (ipykernel)",
   "language": "python",
   "name": "python3"
  },
  "language_info": {
   "codemirror_mode": {
    "name": "ipython",
    "version": 3
   },
   "file_extension": ".py",
   "mimetype": "text/x-python",
   "name": "python",
   "nbconvert_exporter": "python",
   "pygments_lexer": "ipython3",
   "version": "3.9.12"
  }
 },
 "nbformat": 4,
 "nbformat_minor": 5
}
